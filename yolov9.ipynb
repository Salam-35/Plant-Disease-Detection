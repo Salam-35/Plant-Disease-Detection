{
  "nbformat": 4,
  "nbformat_minor": 0,
  "metadata": {
    "colab": {
      "provenance": [],
      "gpuType": "T4",
      "include_colab_link": true
    },
    "kernelspec": {
      "name": "python3",
      "display_name": "Python 3"
    },
    "language_info": {
      "name": "python"
    },
    "accelerator": "GPU"
  },
  "cells": [
    {
      "cell_type": "markdown",
      "metadata": {
        "id": "view-in-github",
        "colab_type": "text"
      },
      "source": [
        "<a href=\"https://colab.research.google.com/github/Salam-35/Plant-Disease-Detection/blob/main/yolov9.ipynb\" target=\"_parent\"><img src=\"https://colab.research.google.com/assets/colab-badge.svg\" alt=\"Open In Colab\"/></a>"
      ]
    },
    {
      "cell_type": "code",
      "source": [
        "from google.colab import drive\n",
        "drive.mount('/content/drive')"
      ],
      "metadata": {
        "colab": {
          "base_uri": "https://localhost:8080/"
        },
        "id": "8-K8kiEwm96u",
        "outputId": "402d8c8a-26e0-45e3-a6c1-4f71ba0b8925"
      },
      "execution_count": null,
      "outputs": [
        {
          "output_type": "stream",
          "name": "stdout",
          "text": [
            "Mounted at /content/drive\n"
          ]
        }
      ]
    },
    {
      "cell_type": "code",
      "source": [
        "from IPython.display import clear_output"
      ],
      "metadata": {
        "id": "UuAO6mAQm_co"
      },
      "execution_count": null,
      "outputs": []
    },
    {
      "cell_type": "code",
      "source": [
        "!git clone https://github.com/WongKinYiu/yolov9\n",
        "%cd yolov9\n",
        "!pip install -r requirements.txt -q\n",
        "clear_output()"
      ],
      "metadata": {
        "id": "KhnyfkCQnRgz"
      },
      "execution_count": null,
      "outputs": []
    },
    {
      "cell_type": "code",
      "source": [
        "!wget -q https://github.com/WongKinYiu/yolov9/releases/download/v0.1/yolov9-c.pt\n",
        "!wget -q https://github.com/WongKinYiu/yolov9/releases/download/v0.1/yolov9-e.pt\n",
        "!wget -q https://github.com/WongKinYiu/yolov9/releases/download/v0.1/gelan-c.pt\n",
        "!wget -q https://github.com/WongKinYiu/yolov9/releases/download/v0.1/gelan-e.pt"
      ],
      "metadata": {
        "id": "nVk4raFtnfM_"
      },
      "execution_count": null,
      "outputs": []
    },
    {
      "cell_type": "code",
      "source": [
        "import os\n",
        "import pathlib\n",
        "import shutil\n",
        "import json\n",
        "import yaml\n",
        "import locale\n",
        "import argparse\n",
        "\n",
        "import numpy as np\n",
        "from matplotlib import pyplot as plt\n",
        "from sklearn.metrics import ConfusionMatrixDisplay\n",
        "\n",
        "locale.getpreferredencoding = lambda: \"UTF-8\""
      ],
      "metadata": {
        "id": "zCPst1d7n1YU"
      },
      "execution_count": null,
      "outputs": []
    },
    {
      "cell_type": "code",
      "source": [
        "# @title Model training config\n",
        "dataset_path = \"/content/drive/MyDrive/dataset_path\"           # @param {type:\"string\"}\n",
        "experiment_name = \"v0.0.1.9\"              # @param {type:\"string\"}\n",
        "model_name = \"gelan-e\"  # @param [\"yolov9-c\", \"yolov9-e\", \"gelan-c\", \"gelan-e\"]\n",
        "result_dir = \"/content/drive/MyDrive/result_path\" # @param {type:\"string\"}\n",
        "num_epochs = 2         # @param {type:\"integer\"}\n",
        "epoch_patience = 50     # @param{type: \"integer\"}\n",
        "optimizer = \"SGD\"       # @param [\"SGD\", \"Adam\", \"AdamW\", \"LION\"]\n",
        "image_size = 640        # @param{type: \"integer\"}]\n",
        "# learning_rate = 0.01    # @param {type: \"number\"}\n",
        "batch_size = 16         # @param {type: \"integer\"}\n",
        "conf_threshold = 0.001  # @param {type: \"number\"}\n",
        "iou_threshold = 0.7     # @param {type: \"number\"}\n",
        "pretrained = True       # @param {type:\"boolean\"}\n",
        "\n",
        "weight_name = f\"{model_name}.pt\"\n",
        "cfg_name = f\"models/detect/{model_name}.yaml\""
      ],
      "metadata": {
        "cellView": "form",
        "id": "-LzT242qn--t"
      },
      "execution_count": null,
      "outputs": []
    },
    {
      "cell_type": "code",
      "source": [
        "data_config = {\n",
        "    \"path\": dataset_path,\n",
        "    \"train\": \"train\",\n",
        "    \"val\": \"val\",\n",
        "    \"test\": \"test\",\n",
        "\n",
        "    \"names\": {\n",
        "        0: \"fracture\",\n",
        "        1: \"periostealreaction\",\n",
        "        2: \"pronatorsign\",\n",
        "        3: \"softtissue\",\n",
        "    }\n",
        "}\n",
        "\n",
        "with open(\"data.yaml\", \"w\") as f:\n",
        "    yaml.dump(data_config, f)"
      ],
      "metadata": {
        "id": "AfYyG4ospr1h"
      },
      "execution_count": null,
      "outputs": []
    },
    {
      "cell_type": "code",
      "source": [
        "!python train.py \\\n",
        "--batch-size {batch_size} \\\n",
        "--epochs {num_epochs} \\\n",
        "--img {image_size} \\\n",
        "--device 0 \\\n",
        "--min-items 0 \\\n",
        "--data data.yaml \\\n",
        "--weights {model_name}.pt \\\n",
        "--cfg models/detect/{model_name}.yaml \\\n",
        "--hyp hyp.scratch-high.yaml \\\n",
        "--optimizer {optimizer} \\\n",
        "--project {result_dir} \\\n",
        "--name {experiment_name} \\\n",
        "--patience {epoch_patience} \\\n",
        "--exist-ok\n"
      ],
      "metadata": {
        "colab": {
          "base_uri": "https://localhost:8080/"
        },
        "id": "6FDw9Dw0rpGz",
        "outputId": "e1abc950-f9a2-4e2b-bc05-209df3faeb30"
      },
      "execution_count": null,
      "outputs": [
        {
          "output_type": "stream",
          "name": "stdout",
          "text": [
            "2024-03-02 20:25:38.014760: E external/local_xla/xla/stream_executor/cuda/cuda_dnn.cc:9261] Unable to register cuDNN factory: Attempting to register factory for plugin cuDNN when one has already been registered\n",
            "2024-03-02 20:25:38.014830: E external/local_xla/xla/stream_executor/cuda/cuda_fft.cc:607] Unable to register cuFFT factory: Attempting to register factory for plugin cuFFT when one has already been registered\n",
            "2024-03-02 20:25:38.016207: E external/local_xla/xla/stream_executor/cuda/cuda_blas.cc:1515] Unable to register cuBLAS factory: Attempting to register factory for plugin cuBLAS when one has already been registered\n",
            "2024-03-02 20:25:39.055916: W tensorflow/compiler/tf2tensorrt/utils/py_utils.cc:38] TF-TRT Warning: Could not find TensorRT\n",
            "\u001b[34m\u001b[1mtrain: \u001b[0mweights=gelan-e.pt, cfg=models/detect/gelan-e.yaml, data=data.yaml, hyp=hyp.scratch-high.yaml, epochs=2, batch_size=16, imgsz=640, rect=False, resume=False, nosave=False, noval=False, noautoanchor=False, noplots=False, evolve=None, bucket=, cache=None, image_weights=False, device=0, multi_scale=False, single_cls=False, optimizer=SGD, sync_bn=False, workers=8, project=/content/drive/MyDrive/Promit/TraumaXRay/results, name=v0.0.1.9, exist_ok=False, quad=False, cos_lr=False, flat_cos_lr=False, fixed_lr=False, label_smoothing=0.0, patience=50, freeze=[0], save_period=-1, seed=0, local_rank=-1, min_items=0, close_mosaic=0, entity=None, upload_dataset=False, bbox_interval=-1, artifact_alias=latest\n",
            "YOLOv5 🚀 v0.1-32-g2ec64d3 Python-3.10.12 torch-2.1.0+cu121 CUDA:0 (Tesla T4, 15102MiB)\n",
            "\n",
            "\u001b[34m\u001b[1mhyperparameters: \u001b[0mlr0=0.01, lrf=0.01, momentum=0.937, weight_decay=0.0005, warmup_epochs=3.0, warmup_momentum=0.8, warmup_bias_lr=0.1, box=7.5, cls=0.5, cls_pw=1.0, obj=0.7, obj_pw=1.0, dfl=1.5, iou_t=0.2, anchor_t=5.0, fl_gamma=0.0, hsv_h=0.015, hsv_s=0.7, hsv_v=0.4, degrees=0.0, translate=0.1, scale=0.9, shear=0.0, perspective=0.0, flipud=0.0, fliplr=0.5, mosaic=1.0, mixup=0.15, copy_paste=0.3\n",
            "\u001b[34m\u001b[1mClearML: \u001b[0mrun 'pip install clearml' to automatically track, visualize and remotely train YOLO 🚀 in ClearML\n",
            "\u001b[34m\u001b[1mComet: \u001b[0mrun 'pip install comet_ml' to automatically track and visualize YOLO 🚀 runs in Comet\n",
            "\u001b[34m\u001b[1mTensorBoard: \u001b[0mStart with 'tensorboard --logdir /content/drive/MyDrive/Promit/TraumaXRay/results', view at http://localhost:6006/\n",
            "Overriding model.yaml nc=80 with nc=4\n",
            "\n",
            "                 from  n    params  module                                  arguments                     \n",
            "  0                -1  1         0  models.common.Silence                   []                            \n",
            "  1                -1  1      1856  models.common.Conv                      [3, 64, 3, 2]                 \n",
            "  2                -1  1     73984  models.common.Conv                      [64, 128, 3, 2]               \n",
            "  3                -1  1    252160  models.common.RepNCSPELAN4              [128, 256, 128, 64, 2]        \n",
            "  4                -1  1    164352  models.common.ADown                     [256, 256]                    \n",
            "  5                -1  1   1004032  models.common.RepNCSPELAN4              [256, 512, 256, 128, 2]       \n",
            "  6                -1  1    656384  models.common.ADown                     [512, 512]                    \n",
            "  7                -1  1   4006912  models.common.RepNCSPELAN4              [512, 1024, 512, 256, 2]      \n",
            "  8                -1  1   2623488  models.common.ADown                     [1024, 1024]                  \n",
            "  9                -1  1   4269056  models.common.RepNCSPELAN4              [1024, 1024, 512, 256, 2]     \n",
            " 10                 1  1      4160  models.common.CBLinear                  [64, [64]]                    \n",
            " 11                 3  1     49344  models.common.CBLinear                  [256, [64, 128]]              \n",
            " 12                 5  1    229824  models.common.CBLinear                  [512, [64, 128, 256]]         \n",
            " 13                 7  1    984000  models.common.CBLinear                  [1024, [64, 128, 256, 512]]   \n",
            " 14                 9  1   2033600  models.common.CBLinear                  [1024, [64, 128, 256, 512, 1024]]\n",
            " 15                 0  1      1856  models.common.Conv                      [3, 64, 3, 2]                 \n",
            " 16[10, 11, 12, 13, 14, -1]  1         0  models.common.CBFuse                    [[0, 0, 0, 0, 0]]             \n",
            " 17                -1  1     73984  models.common.Conv                      [64, 128, 3, 2]               \n",
            " 18[11, 12, 13, 14, -1]  1         0  models.common.CBFuse                    [[1, 1, 1, 1]]                \n",
            " 19                -1  1    252160  models.common.RepNCSPELAN4              [128, 256, 128, 64, 2]        \n",
            " 20                -1  1    164352  models.common.ADown                     [256, 256]                    \n",
            " 21  [12, 13, 14, -1]  1         0  models.common.CBFuse                    [[2, 2, 2]]                   \n",
            " 22                -1  1   1004032  models.common.RepNCSPELAN4              [256, 512, 256, 128, 2]       \n",
            " 23                -1  1    656384  models.common.ADown                     [512, 512]                    \n",
            " 24      [13, 14, -1]  1         0  models.common.CBFuse                    [[3, 3]]                      \n",
            " 25                -1  1   4006912  models.common.RepNCSPELAN4              [512, 1024, 512, 256, 2]      \n",
            " 26                -1  1   2623488  models.common.ADown                     [1024, 1024]                  \n",
            " 27          [14, -1]  1         0  models.common.CBFuse                    [[4]]                         \n",
            " 28                -1  1   4269056  models.common.RepNCSPELAN4              [1024, 1024, 512, 256, 2]     \n",
            " 29                28  1    787968  models.common.SPPELAN                   [1024, 512, 256]              \n",
            " 30                -1  1         0  torch.nn.modules.upsampling.Upsample    [None, 2, 'nearest']          \n",
            " 31          [-1, 25]  1         0  models.common.Concat                    [1]                           \n",
            " 32                -1  1   4005888  models.common.RepNCSPELAN4              [1536, 512, 512, 256, 2]      \n",
            " 33                -1  1         0  torch.nn.modules.upsampling.Upsample    [None, 2, 'nearest']          \n",
            " 34          [-1, 22]  1         0  models.common.Concat                    [1]                           \n",
            " 35                -1  1   1069056  models.common.RepNCSPELAN4              [1024, 256, 256, 128, 2]      \n",
            " 36                -1  1    164352  models.common.ADown                     [256, 256]                    \n",
            " 37          [-1, 32]  1         0  models.common.Concat                    [1]                           \n",
            " 38                -1  1   3612672  models.common.RepNCSPELAN4              [768, 512, 512, 256, 2]       \n",
            " 39                -1  1    656384  models.common.ADown                     [512, 512]                    \n",
            " 40          [-1, 29]  1         0  models.common.Concat                    [1]                           \n",
            " 41                -1  1  12860416  models.common.RepNCSPELAN4              [1024, 512, 1024, 512, 2]     \n",
            " 42      [35, 38, 41]  1   5493724  models.yolo.DDetect                     [4, [256, 512, 512]]          \n",
            "gelan-e summary: 1228 layers, 58055836 parameters, 58055820 gradients, 192.2 GFLOPs\n",
            "\n",
            "Transferred 1805/1811 items from gelan-e.pt\n",
            "\u001b[34m\u001b[1mAMP: \u001b[0mchecks passed ✅\n",
            "\u001b[34m\u001b[1moptimizer:\u001b[0m SGD(lr=0.01) with parameter groups 298 weight(decay=0.0), 310 weight(decay=0.0005), 309 bias\n",
            "\u001b[34m\u001b[1malbumentations: \u001b[0mBlur(p=0.01, blur_limit=(3, 7)), MedianBlur(p=0.01, blur_limit=(3, 7)), ToGray(p=0.01), CLAHE(p=0.01, clip_limit=(1, 4.0), tile_grid_size=(8, 8))\n",
            "\u001b[34m\u001b[1mtrain: \u001b[0mScanning /content/drive/MyDrive/Promit/TraumaXRay/trauma_dataset/v0.0.1/train/labels.cache... 12 images, 0 backgrounds, 0 corrupt: 100% 12/12 [00:00<?, ?it/s]\n",
            "\u001b[34m\u001b[1mval: \u001b[0mScanning /content/drive/MyDrive/Promit/TraumaXRay/trauma_dataset/v0.0.1/val/labels.cache... 29 images, 0 backgrounds, 0 corrupt: 100% 29/29 [00:00<?, ?it/s]\n",
            "Plotting labels to /content/drive/MyDrive/Promit/TraumaXRay/results/v0.0.1.94/labels.jpg... \n",
            "Image sizes 640 train, 640 val\n",
            "Using 2 dataloader workers\n",
            "Logging results to \u001b[1m/content/drive/MyDrive/Promit/TraumaXRay/results/v0.0.1.94\u001b[0m\n",
            "Starting training for 2 epochs...\n",
            "\n",
            "      Epoch    GPU_mem   box_loss   cls_loss   dfl_loss  Instances       Size\n",
            "        0/1      15.1G      2.986      7.939      2.625         40        640: 100% 1/1 [00:14<00:00, 14.83s/it]\n",
            "                 Class     Images  Instances          P          R      mAP50   mAP50-95: 100% 1/1 [00:02<00:00,  2.99s/it]\n",
            "                   all         29         54          0          0          0          0\n",
            "\n",
            "      Epoch    GPU_mem   box_loss   cls_loss   dfl_loss  Instances       Size\n",
            "        1/1      14.6G       3.61      10.07      2.837         61        640: 100% 1/1 [00:01<00:00,  1.24s/it]\n",
            "                 Class     Images  Instances          P          R      mAP50   mAP50-95: 100% 1/1 [00:01<00:00,  1.18s/it]\n",
            "                   all         29         54          0          0          0          0\n",
            "\n",
            "2 epochs completed in 0.008 hours.\n",
            "Optimizer stripped from /content/drive/MyDrive/Promit/TraumaXRay/results/v0.0.1.94/weights/last.pt, saved as /content/drive/MyDrive/Promit/TraumaXRay/results/v0.0.1.94/weights/last_striped.pt, 117.2MB\n",
            "Optimizer stripped from /content/drive/MyDrive/Promit/TraumaXRay/results/v0.0.1.94/weights/best.pt, saved as /content/drive/MyDrive/Promit/TraumaXRay/results/v0.0.1.94/weights/best_striped.pt, 117.2MB\n",
            "\n",
            "Validating /content/drive/MyDrive/Promit/TraumaXRay/results/v0.0.1.94/weights/best.pt...\n",
            "Fusing layers... \n",
            "gelan-e summary: 690 layers, 57287324 parameters, 0 gradients, 188.6 GFLOPs\n",
            "                 Class     Images  Instances          P          R      mAP50   mAP50-95: 100% 1/1 [00:01<00:00,  1.28s/it]\n",
            "                   all         29         54          0          0          0          0\n",
            "Results saved to \u001b[1m/content/drive/MyDrive/Promit/TraumaXRay/results/v0.0.1.94\u001b[0m\n"
          ]
        }
      ]
    },
    {
      "cell_type": "markdown",
      "source": [
        "# Test"
      ],
      "metadata": {
        "id": "ZEjUPaSVs0qr"
      }
    },
    {
      "cell_type": "code",
      "source": [
        "!python val.py --weights {result_dir}/{experiment_name}/weights/best.pt \\\n",
        "--data data.yaml \\\n",
        "--imgsz {image_size} \\\n",
        "--batch {batch_size} \\\n",
        "--conf {conf_threshold} \\\n",
        "--iou {iou_threshold} \\\n",
        "--device 0 \\\n",
        "--data data.yaml \\\n",
        "--project {result_dir} \\\n",
        "--name {experiment_name} \\\n",
        "--task test \\\n",
        "--exist-ok\n"
      ],
      "metadata": {
        "colab": {
          "base_uri": "https://localhost:8080/"
        },
        "id": "qmiuXxVMsw5t",
        "outputId": "2dd3aa27-0d27-43f1-bc00-24af031c9b9c"
      },
      "execution_count": null,
      "outputs": [
        {
          "output_type": "stream",
          "name": "stdout",
          "text": [
            "\u001b[34m\u001b[1mval: \u001b[0mdata=data.yaml, weights=['/content/drive/MyDrive/Promit/TraumaXRay/results/v0.0.1.93/weights/best.pt'], batch_size=16, imgsz=640, conf_thres=0.001, iou_thres=0.7, max_det=300, task=test, device=0, workers=8, single_cls=False, augment=False, verbose=False, save_txt=False, save_hybrid=False, save_conf=False, save_json=False, project=/content/drive/MyDrive/Promit/TraumaXRay/results, name=v0.0.1.93, exist_ok=True, half=False, dnn=False, min_items=0\n",
            "YOLOv5 🚀 v0.1-32-g2ec64d3 Python-3.10.12 torch-2.1.0+cu121 CUDA:0 (Tesla T4, 15102MiB)\n",
            "\n",
            "Fusing layers... \n",
            "gelan-c summary: 387 layers, 25230172 parameters, 0 gradients, 101.8 GFLOPs\n",
            "\u001b[34m\u001b[1mtest: \u001b[0mScanning /content/drive/MyDrive/Promit/TraumaXRay/trauma_dataset/v0.0.1/test/labels.cache... 10 images, 0 backgrounds, 0 corrupt: 100% 10/10 [00:00<?, ?it/s]\n",
            "                 Class     Images  Instances          P          R      mAP50   mAP50-95: 100% 1/1 [00:02<00:00,  2.07s/it]\n",
            "                   all         10         13          0          0          0          0\n",
            "Speed: 0.5ms pre-process, 35.0ms inference, 93.8ms NMS per image at shape (16, 3, 640, 640)\n",
            "Results saved to \u001b[1m/content/drive/MyDrive/Promit/TraumaXRay/results/v0.0.1.93\u001b[0m\n"
          ]
        }
      ]
    },
    {
      "cell_type": "code",
      "source": [],
      "metadata": {
        "id": "CftZae0S2R3X"
      },
      "execution_count": null,
      "outputs": []
    }
  ]
}